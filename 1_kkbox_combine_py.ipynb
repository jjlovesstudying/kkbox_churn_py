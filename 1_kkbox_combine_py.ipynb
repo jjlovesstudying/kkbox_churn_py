{
  "nbformat": 4,
  "nbformat_minor": 0,
  "metadata": {
    "colab": {
      "name": "1_kkbox_combine_py.ipynb",
      "version": "0.3.2",
      "provenance": [],
      "collapsed_sections": []
    },
    "kernelspec": {
      "name": "python3",
      "display_name": "Python 3"
    }
  },
  "cells": [
    {
      "metadata": {
        "id": "9v5CIs1RJGP_",
        "colab_type": "code",
        "colab": {}
      },
      "cell_type": "code",
      "source": [
        "import pandas as pd"
      ],
      "execution_count": 0,
      "outputs": []
    },
    {
      "metadata": {
        "id": "I2TVu2DbJJ_2",
        "colab_type": "code",
        "colab": {}
      },
      "cell_type": "code",
      "source": [
        "df_transactions = pd.read_csv(\"data/kkbox/transactions.csv\")\n",
        "df_train = pd.read_csv(\"data/kkbox/train.csv\")\n",
        "df_combined = pd.merge(df_train, df_transactions, how='left', on=\"msno\")"
      ],
      "execution_count": 0,
      "outputs": []
    },
    {
      "metadata": {
        "id": "Y23zQsAGJ4q5",
        "colab_type": "code",
        "colab": {}
      },
      "cell_type": "code",
      "source": [
        "# remove unused variables from the environment\n",
        "del df_train\n",
        "del df_transactions"
      ],
      "execution_count": 0,
      "outputs": []
    },
    {
      "metadata": {
        "id": "VshEBSrUJ7SK",
        "colab_type": "code",
        "colab": {
          "base_uri": "https://localhost:8080/",
          "height": 34
        },
        "outputId": "998b39f8-2083-41e0-d1f0-04eb8070c69c"
      },
      "cell_type": "code",
      "source": [
        "df_combined.head()\n",
        "df_combined.shape  # (15883148, 10)"
      ],
      "execution_count": 4,
      "outputs": [
        {
          "output_type": "execute_result",
          "data": {
            "text/plain": [
              "(15883148, 10)"
            ]
          },
          "metadata": {
            "tags": []
          },
          "execution_count": 4
        }
      ]
    },
    {
      "metadata": {
        "id": "CXQEu5U8J-uL",
        "colab_type": "code",
        "colab": {
          "base_uri": "https://localhost:8080/",
          "height": 317
        },
        "outputId": "27d974c3-3f28-4f98-f878-6baeb86c352c"
      },
      "cell_type": "code",
      "source": [
        "df_combined.describe()"
      ],
      "execution_count": 5,
      "outputs": [
        {
          "output_type": "execute_result",
          "data": {
            "text/html": [
              "<div>\n",
              "<style scoped>\n",
              "    .dataframe tbody tr th:only-of-type {\n",
              "        vertical-align: middle;\n",
              "    }\n",
              "\n",
              "    .dataframe tbody tr th {\n",
              "        vertical-align: top;\n",
              "    }\n",
              "\n",
              "    .dataframe thead th {\n",
              "        text-align: right;\n",
              "    }\n",
              "</style>\n",
              "<table border=\"1\" class=\"dataframe\">\n",
              "  <thead>\n",
              "    <tr style=\"text-align: right;\">\n",
              "      <th></th>\n",
              "      <th>is_churn</th>\n",
              "      <th>payment_method_id</th>\n",
              "      <th>payment_plan_days</th>\n",
              "      <th>plan_list_price</th>\n",
              "      <th>actual_amount_paid</th>\n",
              "      <th>is_auto_renew</th>\n",
              "      <th>transaction_date</th>\n",
              "      <th>membership_expire_date</th>\n",
              "      <th>is_cancel</th>\n",
              "    </tr>\n",
              "  </thead>\n",
              "  <tbody>\n",
              "    <tr>\n",
              "      <th>count</th>\n",
              "      <td>1.588315e+07</td>\n",
              "      <td>1.588315e+07</td>\n",
              "      <td>1.588315e+07</td>\n",
              "      <td>1.588315e+07</td>\n",
              "      <td>1.588315e+07</td>\n",
              "      <td>1.588315e+07</td>\n",
              "      <td>1.588315e+07</td>\n",
              "      <td>1.588315e+07</td>\n",
              "      <td>1.588315e+07</td>\n",
              "    </tr>\n",
              "    <tr>\n",
              "      <th>mean</th>\n",
              "      <td>4.316342e-02</td>\n",
              "      <td>3.921838e+01</td>\n",
              "      <td>2.967551e+01</td>\n",
              "      <td>1.313862e+02</td>\n",
              "      <td>1.359501e+02</td>\n",
              "      <td>9.250705e-01</td>\n",
              "      <td>2.015856e+07</td>\n",
              "      <td>2.015966e+07</td>\n",
              "      <td>1.737722e-02</td>\n",
              "    </tr>\n",
              "    <tr>\n",
              "      <th>std</th>\n",
              "      <td>2.032249e-01</td>\n",
              "      <td>3.308641e+00</td>\n",
              "      <td>1.584821e+01</td>\n",
              "      <td>7.186942e+01</td>\n",
              "      <td>6.835913e+01</td>\n",
              "      <td>2.632775e-01</td>\n",
              "      <td>6.181986e+03</td>\n",
              "      <td>6.786282e+03</td>\n",
              "      <td>1.306723e-01</td>\n",
              "    </tr>\n",
              "    <tr>\n",
              "      <th>min</th>\n",
              "      <td>0.000000e+00</td>\n",
              "      <td>2.000000e+00</td>\n",
              "      <td>0.000000e+00</td>\n",
              "      <td>0.000000e+00</td>\n",
              "      <td>0.000000e+00</td>\n",
              "      <td>0.000000e+00</td>\n",
              "      <td>2.015010e+07</td>\n",
              "      <td>1.970010e+07</td>\n",
              "      <td>0.000000e+00</td>\n",
              "    </tr>\n",
              "    <tr>\n",
              "      <th>25%</th>\n",
              "      <td>0.000000e+00</td>\n",
              "      <td>3.900000e+01</td>\n",
              "      <td>3.000000e+01</td>\n",
              "      <td>9.900000e+01</td>\n",
              "      <td>9.900000e+01</td>\n",
              "      <td>1.000000e+00</td>\n",
              "      <td>2.015103e+07</td>\n",
              "      <td>2.015121e+07</td>\n",
              "      <td>0.000000e+00</td>\n",
              "    </tr>\n",
              "    <tr>\n",
              "      <th>50%</th>\n",
              "      <td>0.000000e+00</td>\n",
              "      <td>4.100000e+01</td>\n",
              "      <td>3.000000e+01</td>\n",
              "      <td>1.490000e+02</td>\n",
              "      <td>1.490000e+02</td>\n",
              "      <td>1.000000e+00</td>\n",
              "      <td>2.016052e+07</td>\n",
              "      <td>2.016062e+07</td>\n",
              "      <td>0.000000e+00</td>\n",
              "    </tr>\n",
              "    <tr>\n",
              "      <th>75%</th>\n",
              "      <td>0.000000e+00</td>\n",
              "      <td>4.100000e+01</td>\n",
              "      <td>3.000000e+01</td>\n",
              "      <td>1.490000e+02</td>\n",
              "      <td>1.490000e+02</td>\n",
              "      <td>1.000000e+00</td>\n",
              "      <td>2.016102e+07</td>\n",
              "      <td>2.016112e+07</td>\n",
              "      <td>0.000000e+00</td>\n",
              "    </tr>\n",
              "    <tr>\n",
              "      <th>max</th>\n",
              "      <td>1.000000e+00</td>\n",
              "      <td>4.100000e+01</td>\n",
              "      <td>4.500000e+02</td>\n",
              "      <td>2.000000e+03</td>\n",
              "      <td>2.000000e+03</td>\n",
              "      <td>1.000000e+00</td>\n",
              "      <td>2.017023e+07</td>\n",
              "      <td>2.017033e+07</td>\n",
              "      <td>1.000000e+00</td>\n",
              "    </tr>\n",
              "  </tbody>\n",
              "</table>\n",
              "</div>"
            ],
            "text/plain": [
              "           is_churn  payment_method_id  payment_plan_days  plan_list_price  \\\n",
              "count  1.588315e+07       1.588315e+07       1.588315e+07     1.588315e+07   \n",
              "mean   4.316342e-02       3.921838e+01       2.967551e+01     1.313862e+02   \n",
              "std    2.032249e-01       3.308641e+00       1.584821e+01     7.186942e+01   \n",
              "min    0.000000e+00       2.000000e+00       0.000000e+00     0.000000e+00   \n",
              "25%    0.000000e+00       3.900000e+01       3.000000e+01     9.900000e+01   \n",
              "50%    0.000000e+00       4.100000e+01       3.000000e+01     1.490000e+02   \n",
              "75%    0.000000e+00       4.100000e+01       3.000000e+01     1.490000e+02   \n",
              "max    1.000000e+00       4.100000e+01       4.500000e+02     2.000000e+03   \n",
              "\n",
              "       actual_amount_paid  is_auto_renew  transaction_date  \\\n",
              "count        1.588315e+07   1.588315e+07      1.588315e+07   \n",
              "mean         1.359501e+02   9.250705e-01      2.015856e+07   \n",
              "std          6.835913e+01   2.632775e-01      6.181986e+03   \n",
              "min          0.000000e+00   0.000000e+00      2.015010e+07   \n",
              "25%          9.900000e+01   1.000000e+00      2.015103e+07   \n",
              "50%          1.490000e+02   1.000000e+00      2.016052e+07   \n",
              "75%          1.490000e+02   1.000000e+00      2.016102e+07   \n",
              "max          2.000000e+03   1.000000e+00      2.017023e+07   \n",
              "\n",
              "       membership_expire_date     is_cancel  \n",
              "count            1.588315e+07  1.588315e+07  \n",
              "mean             2.015966e+07  1.737722e-02  \n",
              "std              6.786282e+03  1.306723e-01  \n",
              "min              1.970010e+07  0.000000e+00  \n",
              "25%              2.015121e+07  0.000000e+00  \n",
              "50%              2.016062e+07  0.000000e+00  \n",
              "75%              2.016112e+07  0.000000e+00  \n",
              "max              2.017033e+07  1.000000e+00  "
            ]
          },
          "metadata": {
            "tags": []
          },
          "execution_count": 5
        }
      ]
    },
    {
      "metadata": {
        "id": "bdDm05_vKAJB",
        "colab_type": "code",
        "colab": {
          "base_uri": "https://localhost:8080/",
          "height": 272
        },
        "outputId": "ce11d28a-1160-4202-ef7c-7b2991fa2e0c"
      },
      "cell_type": "code",
      "source": [
        "df_combined.info()"
      ],
      "execution_count": 6,
      "outputs": [
        {
          "output_type": "stream",
          "text": [
            "<class 'pandas.core.frame.DataFrame'>\n",
            "Int64Index: 15883148 entries, 0 to 15883147\n",
            "Data columns (total 10 columns):\n",
            "msno                      object\n",
            "is_churn                  int64\n",
            "payment_method_id         int64\n",
            "payment_plan_days         int64\n",
            "plan_list_price           int64\n",
            "actual_amount_paid        int64\n",
            "is_auto_renew             int64\n",
            "transaction_date          int64\n",
            "membership_expire_date    int64\n",
            "is_cancel                 int64\n",
            "dtypes: int64(9), object(1)\n",
            "memory usage: 1.3+ GB\n"
          ],
          "name": "stdout"
        }
      ]
    },
    {
      "metadata": {
        "id": "X-bBScAvKeBu",
        "colab_type": "code",
        "colab": {}
      },
      "cell_type": "code",
      "source": [
        "# Save to file\n",
        "df_combined.to_csv(\"data/kkbox/combined_v1.csv\", index=False)"
      ],
      "execution_count": 0,
      "outputs": []
    },
    {
      "metadata": {
        "id": "cLQXrKDySzjE",
        "colab_type": "code",
        "colab": {}
      },
      "cell_type": "code",
      "source": [
        ""
      ],
      "execution_count": 0,
      "outputs": []
    }
  ]
}