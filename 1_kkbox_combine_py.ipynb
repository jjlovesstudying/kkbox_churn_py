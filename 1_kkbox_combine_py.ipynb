{
  "nbformat": 4,
  "nbformat_minor": 0,
  "metadata": {
    "colab": {
      "name": "1_kkbox_combine_py.ipynb",
      "version": "0.3.2",
      "views": {},
      "default_view": {},
      "provenance": [],
      "collapsed_sections": []
    },
    "kernelspec": {
      "name": "python3",
      "display_name": "Python 3"
    }
  },
  "cells": [
    {
      "metadata": {
        "id": "8uEHYFQBJBLn",
        "colab_type": "code",
        "colab": {
          "autoexec": {
            "startup": false,
            "wait_interval": 0
          },
          "output_extras": [
            {
              "item_id": 1
            }
          ],
          "base_uri": "https://localhost:8080/",
          "height": 34
        },
        "outputId": "2b62adaf-31f1-46e4-c4f1-6846136e1711",
        "executionInfo": {
          "status": "ok",
          "timestamp": 1522922300100,
          "user_tz": -480,
          "elapsed": 2002,
          "user": {
            "displayName": "JJ Yong",
            "photoUrl": "https://lh3.googleusercontent.com/a/default-user=s128",
            "userId": "116163874396631958862"
          }
        }
      },
      "cell_type": "code",
      "source": [
        "!ls data/kkbox"
      ],
      "execution_count": 27,
      "outputs": [
        {
          "output_type": "stream",
          "text": [
            "combined_v1.csv  train.csv  train_v2.csv  transactions.csv  transactions_v2.csv\r\n"
          ],
          "name": "stdout"
        }
      ]
    },
    {
      "metadata": {
        "id": "9v5CIs1RJGP_",
        "colab_type": "code",
        "colab": {
          "autoexec": {
            "startup": false,
            "wait_interval": 0
          }
        }
      },
      "cell_type": "code",
      "source": [
        "import pandas as pd"
      ],
      "execution_count": 0,
      "outputs": []
    },
    {
      "metadata": {
        "id": "I2TVu2DbJJ_2",
        "colab_type": "code",
        "colab": {
          "autoexec": {
            "startup": false,
            "wait_interval": 0
          }
        }
      },
      "cell_type": "code",
      "source": [
        "df_transactions = pd.read_csv(\"data/kkbox/transactions.csv\")\n",
        "df_train = pd.read_csv(\"data/kkbox/train.csv\")\n",
        "df_combined = pd.merge(df_train, df_transactions, how='left', on=\"msno\")"
      ],
      "execution_count": 0,
      "outputs": []
    },
    {
      "metadata": {
        "id": "Y23zQsAGJ4q5",
        "colab_type": "code",
        "colab": {
          "autoexec": {
            "startup": false,
            "wait_interval": 0
          }
        }
      },
      "cell_type": "code",
      "source": [
        "# remove unused variables from the environment\n",
        "del df_train\n",
        "del df_transactions"
      ],
      "execution_count": 0,
      "outputs": []
    },
    {
      "metadata": {
        "id": "VshEBSrUJ7SK",
        "colab_type": "code",
        "colab": {
          "autoexec": {
            "startup": false,
            "wait_interval": 0
          },
          "output_extras": [
            {
              "item_id": 1
            }
          ],
          "base_uri": "https://localhost:8080/",
          "height": 34
        },
        "outputId": "579f44ff-50bc-410f-e4ba-9d35541f4d07",
        "executionInfo": {
          "status": "ok",
          "timestamp": 1522920962760,
          "user_tz": -480,
          "elapsed": 737,
          "user": {
            "displayName": "JJ Yong",
            "photoUrl": "https://lh3.googleusercontent.com/a/default-user=s128",
            "userId": "116163874396631958862"
          }
        }
      },
      "cell_type": "code",
      "source": [
        "df_combined.head()\n",
        "df_combined.shape  # (15883148, 10)"
      ],
      "execution_count": 21,
      "outputs": [
        {
          "output_type": "execute_result",
          "data": {
            "text/plain": [
              "(15883148, 10)"
            ]
          },
          "metadata": {
            "tags": []
          },
          "execution_count": 21
        }
      ]
    },
    {
      "metadata": {
        "id": "CXQEu5U8J-uL",
        "colab_type": "code",
        "colab": {
          "autoexec": {
            "startup": false,
            "wait_interval": 0
          },
          "output_extras": [
            {
              "item_id": 1
            }
          ],
          "base_uri": "https://localhost:8080/",
          "height": 317
        },
        "outputId": "f7e6cc90-a691-4234-d135-d899552f0888",
        "executionInfo": {
          "status": "ok",
          "timestamp": 1522920982401,
          "user_tz": -480,
          "elapsed": 16587,
          "user": {
            "displayName": "JJ Yong",
            "photoUrl": "https://lh3.googleusercontent.com/a/default-user=s128",
            "userId": "116163874396631958862"
          }
        }
      },
      "cell_type": "code",
      "source": [
        "df_combined.describe()"
      ],
      "execution_count": 22,
      "outputs": [
        {
          "output_type": "execute_result",
          "data": {
            "text/html": [
              "<div>\n",
              "<style scoped>\n",
              "    .dataframe tbody tr th:only-of-type {\n",
              "        vertical-align: middle;\n",
              "    }\n",
              "\n",
              "    .dataframe tbody tr th {\n",
              "        vertical-align: top;\n",
              "    }\n",
              "\n",
              "    .dataframe thead th {\n",
              "        text-align: right;\n",
              "    }\n",
              "</style>\n",
              "<table border=\"1\" class=\"dataframe\">\n",
              "  <thead>\n",
              "    <tr style=\"text-align: right;\">\n",
              "      <th></th>\n",
              "      <th>is_churn</th>\n",
              "      <th>payment_method_id</th>\n",
              "      <th>payment_plan_days</th>\n",
              "      <th>plan_list_price</th>\n",
              "      <th>actual_amount_paid</th>\n",
              "      <th>is_auto_renew</th>\n",
              "      <th>transaction_date</th>\n",
              "      <th>membership_expire_date</th>\n",
              "      <th>is_cancel</th>\n",
              "    </tr>\n",
              "  </thead>\n",
              "  <tbody>\n",
              "    <tr>\n",
              "      <th>count</th>\n",
              "      <td>1.588315e+07</td>\n",
              "      <td>1.588315e+07</td>\n",
              "      <td>1.588315e+07</td>\n",
              "      <td>1.588315e+07</td>\n",
              "      <td>1.588315e+07</td>\n",
              "      <td>1.588315e+07</td>\n",
              "      <td>1.588315e+07</td>\n",
              "      <td>1.588315e+07</td>\n",
              "      <td>1.588315e+07</td>\n",
              "    </tr>\n",
              "    <tr>\n",
              "      <th>mean</th>\n",
              "      <td>4.316342e-02</td>\n",
              "      <td>3.921838e+01</td>\n",
              "      <td>2.967551e+01</td>\n",
              "      <td>1.313862e+02</td>\n",
              "      <td>1.359501e+02</td>\n",
              "      <td>9.250705e-01</td>\n",
              "      <td>2.015856e+07</td>\n",
              "      <td>2.015966e+07</td>\n",
              "      <td>1.737722e-02</td>\n",
              "    </tr>\n",
              "    <tr>\n",
              "      <th>std</th>\n",
              "      <td>2.032249e-01</td>\n",
              "      <td>3.308641e+00</td>\n",
              "      <td>1.584821e+01</td>\n",
              "      <td>7.186942e+01</td>\n",
              "      <td>6.835913e+01</td>\n",
              "      <td>2.632775e-01</td>\n",
              "      <td>6.181986e+03</td>\n",
              "      <td>6.786282e+03</td>\n",
              "      <td>1.306723e-01</td>\n",
              "    </tr>\n",
              "    <tr>\n",
              "      <th>min</th>\n",
              "      <td>0.000000e+00</td>\n",
              "      <td>2.000000e+00</td>\n",
              "      <td>0.000000e+00</td>\n",
              "      <td>0.000000e+00</td>\n",
              "      <td>0.000000e+00</td>\n",
              "      <td>0.000000e+00</td>\n",
              "      <td>2.015010e+07</td>\n",
              "      <td>1.970010e+07</td>\n",
              "      <td>0.000000e+00</td>\n",
              "    </tr>\n",
              "    <tr>\n",
              "      <th>25%</th>\n",
              "      <td>0.000000e+00</td>\n",
              "      <td>3.900000e+01</td>\n",
              "      <td>3.000000e+01</td>\n",
              "      <td>9.900000e+01</td>\n",
              "      <td>9.900000e+01</td>\n",
              "      <td>1.000000e+00</td>\n",
              "      <td>2.015103e+07</td>\n",
              "      <td>2.015121e+07</td>\n",
              "      <td>0.000000e+00</td>\n",
              "    </tr>\n",
              "    <tr>\n",
              "      <th>50%</th>\n",
              "      <td>0.000000e+00</td>\n",
              "      <td>4.100000e+01</td>\n",
              "      <td>3.000000e+01</td>\n",
              "      <td>1.490000e+02</td>\n",
              "      <td>1.490000e+02</td>\n",
              "      <td>1.000000e+00</td>\n",
              "      <td>2.016052e+07</td>\n",
              "      <td>2.016062e+07</td>\n",
              "      <td>0.000000e+00</td>\n",
              "    </tr>\n",
              "    <tr>\n",
              "      <th>75%</th>\n",
              "      <td>0.000000e+00</td>\n",
              "      <td>4.100000e+01</td>\n",
              "      <td>3.000000e+01</td>\n",
              "      <td>1.490000e+02</td>\n",
              "      <td>1.490000e+02</td>\n",
              "      <td>1.000000e+00</td>\n",
              "      <td>2.016102e+07</td>\n",
              "      <td>2.016112e+07</td>\n",
              "      <td>0.000000e+00</td>\n",
              "    </tr>\n",
              "    <tr>\n",
              "      <th>max</th>\n",
              "      <td>1.000000e+00</td>\n",
              "      <td>4.100000e+01</td>\n",
              "      <td>4.500000e+02</td>\n",
              "      <td>2.000000e+03</td>\n",
              "      <td>2.000000e+03</td>\n",
              "      <td>1.000000e+00</td>\n",
              "      <td>2.017023e+07</td>\n",
              "      <td>2.017033e+07</td>\n",
              "      <td>1.000000e+00</td>\n",
              "    </tr>\n",
              "  </tbody>\n",
              "</table>\n",
              "</div>"
            ],
            "text/plain": [
              "           is_churn  payment_method_id  payment_plan_days  plan_list_price  \\\n",
              "count  1.588315e+07       1.588315e+07       1.588315e+07     1.588315e+07   \n",
              "mean   4.316342e-02       3.921838e+01       2.967551e+01     1.313862e+02   \n",
              "std    2.032249e-01       3.308641e+00       1.584821e+01     7.186942e+01   \n",
              "min    0.000000e+00       2.000000e+00       0.000000e+00     0.000000e+00   \n",
              "25%    0.000000e+00       3.900000e+01       3.000000e+01     9.900000e+01   \n",
              "50%    0.000000e+00       4.100000e+01       3.000000e+01     1.490000e+02   \n",
              "75%    0.000000e+00       4.100000e+01       3.000000e+01     1.490000e+02   \n",
              "max    1.000000e+00       4.100000e+01       4.500000e+02     2.000000e+03   \n",
              "\n",
              "       actual_amount_paid  is_auto_renew  transaction_date  \\\n",
              "count        1.588315e+07   1.588315e+07      1.588315e+07   \n",
              "mean         1.359501e+02   9.250705e-01      2.015856e+07   \n",
              "std          6.835913e+01   2.632775e-01      6.181986e+03   \n",
              "min          0.000000e+00   0.000000e+00      2.015010e+07   \n",
              "25%          9.900000e+01   1.000000e+00      2.015103e+07   \n",
              "50%          1.490000e+02   1.000000e+00      2.016052e+07   \n",
              "75%          1.490000e+02   1.000000e+00      2.016102e+07   \n",
              "max          2.000000e+03   1.000000e+00      2.017023e+07   \n",
              "\n",
              "       membership_expire_date     is_cancel  \n",
              "count            1.588315e+07  1.588315e+07  \n",
              "mean             2.015966e+07  1.737722e-02  \n",
              "std              6.786282e+03  1.306723e-01  \n",
              "min              1.970010e+07  0.000000e+00  \n",
              "25%              2.015121e+07  0.000000e+00  \n",
              "50%              2.016062e+07  0.000000e+00  \n",
              "75%              2.016112e+07  0.000000e+00  \n",
              "max              2.017033e+07  1.000000e+00  "
            ]
          },
          "metadata": {
            "tags": []
          },
          "execution_count": 22
        }
      ]
    },
    {
      "metadata": {
        "id": "bdDm05_vKAJB",
        "colab_type": "code",
        "colab": {
          "autoexec": {
            "startup": false,
            "wait_interval": 0
          },
          "output_extras": [
            {
              "item_id": 1
            }
          ],
          "base_uri": "https://localhost:8080/",
          "height": 272
        },
        "outputId": "334df768-1d54-47a9-9e4a-b0f46a0f093a",
        "executionInfo": {
          "status": "ok",
          "timestamp": 1522920983155,
          "user_tz": -480,
          "elapsed": 744,
          "user": {
            "displayName": "JJ Yong",
            "photoUrl": "https://lh3.googleusercontent.com/a/default-user=s128",
            "userId": "116163874396631958862"
          }
        }
      },
      "cell_type": "code",
      "source": [
        "df_combined.info()"
      ],
      "execution_count": 23,
      "outputs": [
        {
          "output_type": "stream",
          "text": [
            "<class 'pandas.core.frame.DataFrame'>\n",
            "Int64Index: 15883148 entries, 0 to 15883147\n",
            "Data columns (total 10 columns):\n",
            "msno                      object\n",
            "is_churn                  int64\n",
            "payment_method_id         int64\n",
            "payment_plan_days         int64\n",
            "plan_list_price           int64\n",
            "actual_amount_paid        int64\n",
            "is_auto_renew             int64\n",
            "transaction_date          int64\n",
            "membership_expire_date    int64\n",
            "is_cancel                 int64\n",
            "dtypes: int64(9), object(1)\n",
            "memory usage: 1.3+ GB\n"
          ],
          "name": "stdout"
        }
      ]
    },
    {
      "metadata": {
        "id": "X-bBScAvKeBu",
        "colab_type": "code",
        "colab": {
          "autoexec": {
            "startup": false,
            "wait_interval": 0
          }
        }
      },
      "cell_type": "code",
      "source": [
        "# Save to file\n",
        "df_combined.to_csv(\"data/kkbox/combined_v1.csv\", index=False)"
      ],
      "execution_count": 0,
      "outputs": []
    },
    {
      "metadata": {
        "id": "A0uHpFZiSQqP",
        "colab_type": "code",
        "colab": {
          "autoexec": {
            "startup": false,
            "wait_interval": 0
          },
          "output_extras": [
            {
              "item_id": 1
            }
          ],
          "base_uri": "https://localhost:8080/",
          "height": 34
        },
        "outputId": "c62fccaa-6651-43ad-9773-a0df0e383840",
        "executionInfo": {
          "status": "ok",
          "timestamp": 1522923123093,
          "user_tz": -480,
          "elapsed": 2194,
          "user": {
            "displayName": "JJ Yong",
            "photoUrl": "https://lh3.googleusercontent.com/a/default-user=s128",
            "userId": "116163874396631958862"
          }
        }
      },
      "cell_type": "code",
      "source": [
        "!ls"
      ],
      "execution_count": 36,
      "outputs": [
        {
          "output_type": "stream",
          "text": [
            "data  datalab\r\n"
          ],
          "name": "stdout"
        }
      ]
    },
    {
      "metadata": {
        "id": "zaF2biWeSpuM",
        "colab_type": "code",
        "colab": {
          "autoexec": {
            "startup": false,
            "wait_interval": 0
          },
          "output_extras": [
            {
              "item_id": 1
            }
          ],
          "base_uri": "https://localhost:8080/",
          "height": 238
        },
        "outputId": "cd1c801b-1123-48c5-de6a-430aa8830990",
        "executionInfo": {
          "status": "ok",
          "timestamp": 1522923136980,
          "user_tz": -480,
          "elapsed": 1938,
          "user": {
            "displayName": "JJ Yong",
            "photoUrl": "https://lh3.googleusercontent.com/a/default-user=s128",
            "userId": "116163874396631958862"
          }
        }
      },
      "cell_type": "code",
      "source": [
        "!ls -al"
      ],
      "execution_count": 37,
      "outputs": [
        {
          "output_type": "stream",
          "text": [
            "total 48\r\n",
            "drwxr-xr-x 1 root root 4096 Apr  5 10:08 .\r\n",
            "drwxr-xr-x 1 root root 4096 Apr  5 07:14 ..\r\n",
            "drwx------ 4 root root 4096 Apr  5 07:15 .cache\r\n",
            "drwxr-xr-x 3 root root 4096 Apr  5 07:15 .config\r\n",
            "drwxr-xr-x 3 root root 4096 Apr  5 07:27 data\r\n",
            "drwxr-xr-x 1 root root 4096 Apr  5 08:46 datalab\r\n",
            "drwxr-xr-x 4 root root 4096 Apr  5 07:14 .forever\r\n",
            "drwxr-xr-x 7 root root 4096 Apr  5 10:09 .git\r\n",
            "drwxr-xr-x 5 root root 4096 Apr  5 07:15 .ipython\r\n",
            "drwx------ 3 root root 4096 Apr  5 07:14 .local\r\n",
            "-rw------- 1 root root 1024 Apr  5 07:14 .rnd\r\n",
            "-rw-r--r-- 1 root root  221 Apr  5 08:17 .wget-hsts\r\n"
          ],
          "name": "stdout"
        }
      ]
    },
    {
      "metadata": {
        "id": "cLQXrKDySzjE",
        "colab_type": "code",
        "colab": {
          "autoexec": {
            "startup": false,
            "wait_interval": 0
          }
        }
      },
      "cell_type": "code",
      "source": [
        ""
      ],
      "execution_count": 0,
      "outputs": []
    }
  ]
}